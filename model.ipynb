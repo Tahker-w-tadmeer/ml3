{
 "cells": [
  {
   "cell_type": "code",
   "execution_count": 2,
   "id": "initial_id",
   "metadata": {
    "collapsed": true,
    "ExecuteTime": {
     "end_time": "2023-12-20T23:31:38.448101Z",
     "start_time": "2023-12-20T23:31:37.659025Z"
    }
   },
   "outputs": [
    {
     "name": "stdout",
     "output_type": "stream",
     "text": [
      "[[0.56516688 0.92705525 0.28571429 ... 0.61111111 0.56427143 1.        ]\n",
      " [0.63358586 0.49312747 0.35714286 ... 0.73333333 0.65321251 0.        ]\n",
      " [0.71162294 0.81947715 0.5        ... 0.42222222 0.65321251 1.        ]\n",
      " ...\n",
      " [0.38907563 0.44179874 0.14285714 ... 0.37777778 0.39794001 0.        ]\n",
      " [0.63358586 0.74632457 0.5        ... 0.45555556 0.56427143 1.        ]\n",
      " [0.46470946 0.61042446 0.07142857 ... 0.5        0.54406804 0.        ]]\n"
     ]
    }
   ],
   "source": [
    "import pandas as pd\n",
    "df = pd.read_csv('tahkeer_data_cleaned.csv', sep=',')\n",
    "print(df.values)"
   ]
  },
  {
   "cell_type": "code",
   "execution_count": 3,
   "outputs": [],
   "source": [
    "import numpy as np\n",
    "from sklearn.tree import DecisionTreeClassifier\n",
    "from sklearn.metrics import accuracy_score\n",
    "\n",
    "# Function to implement bagging\n",
    "def bagging(X, y, n_models):\n",
    "    models = []\n",
    "    for _ in range(n_models):\n",
    "        # Create a random subset of the data with replacement\n",
    "        indices = np.random.choice(len(X), size=len(X), replace=True)\n",
    "        X_subset, y_subset = X[indices], y[indices]\n",
    "\n",
    "        # Train a model on the subset\n",
    "        model = DecisionTreeClassifier()\n",
    "        model.fit(X_subset, y_subset)\n",
    "        models.append(model)\n",
    "\n",
    "    return models\n",
    "\n",
    "# Function to make predictions using the bagged models\n",
    "def predict_bagging(models, X):\n",
    "    predictions = np.zeros((len(X), len(models)))\n",
    "\n",
    "    for i, model in enumerate(models):\n",
    "        predictions[:, i] = model.predict(X)\n",
    "\n",
    "    # Use majority voting to get the final predictions\n",
    "    final_predictions = np.round(np.mean(predictions, axis=1))\n",
    "\n",
    "    return final_predictions"
   ],
   "metadata": {
    "collapsed": false,
    "ExecuteTime": {
     "end_time": "2023-12-20T23:31:39.248947Z",
     "start_time": "2023-12-20T23:31:38.446977Z"
    }
   },
   "id": "9fac969431223e6e"
  },
  {
   "cell_type": "code",
   "execution_count": 4,
   "outputs": [
    {
     "name": "stdout",
     "output_type": "stream",
     "text": [
      "['Gtp', 'triglyceride', 'weight(kg)', 'serum creatinine', 'waist(cm)', 'LDL', 'Cholesterol', 'HDL', 'fasting blood sugar', 'systolic', 'AST', 'smoking']\n",
      "['Gtp', 'triglyceride', 'weight(kg)', 'serum creatinine', 'waist(cm)', 'LDL', 'Cholesterol', 'HDL', 'fasting blood sugar', 'systolic', 'AST']\n"
     ]
    }
   ],
   "source": [
    "columns = df.columns.tolist()\n",
    "print(columns)\n",
    "columns.remove(\"smoking\")\n",
    "print(columns)\n",
    "x=df[columns]\n",
    "y=df[\"smoking\"]"
   ],
   "metadata": {
    "collapsed": false,
    "ExecuteTime": {
     "end_time": "2023-12-20T23:31:39.259886Z",
     "start_time": "2023-12-20T23:31:39.249552Z"
    }
   },
   "id": "fe9ab1e20fe86d44"
  },
  {
   "cell_type": "code",
   "execution_count": 5,
   "outputs": [
    {
     "ename": "KeyError",
     "evalue": "\"None of [Index([ 86033,  86519,  87616,   7860,   1992,   1606,    942,  45277,    955,\\n        59869,\\n       ...\\n        84883, 100075,  89371,   9394, 103357,  58353,  22086,  55785,   8013,\\n        31490],\\n      dtype='int64', length=108999)] are in the [columns]\"",
     "output_type": "error",
     "traceback": [
      "\u001B[0;31m---------------------------------------------------------------------------\u001B[0m",
      "\u001B[0;31mKeyError\u001B[0m                                  Traceback (most recent call last)",
      "Cell \u001B[0;32mIn[5], line 3\u001B[0m\n\u001B[1;32m      1\u001B[0m \u001B[38;5;28;01mfrom\u001B[39;00m \u001B[38;5;21;01msklearn\u001B[39;00m\u001B[38;5;21;01m.\u001B[39;00m\u001B[38;5;21;01mmodel_selection\u001B[39;00m \u001B[38;5;28;01mimport\u001B[39;00m train_test_split\n\u001B[1;32m      2\u001B[0m xtrain,xtest,ytrain,ytest\u001B[38;5;241m=\u001B[39mtrain_test_split(x,y,test_size\u001B[38;5;241m=\u001B[39m\u001B[38;5;241m0.30\u001B[39m,shuffle\u001B[38;5;241m=\u001B[39m\u001B[38;5;28;01mTrue\u001B[39;00m,train_size\u001B[38;5;241m=\u001B[39m\u001B[38;5;241m0.70\u001B[39m)\n\u001B[0;32m----> 3\u001B[0m bagged_models \u001B[38;5;241m=\u001B[39m \u001B[43mbagging\u001B[49m\u001B[43m(\u001B[49m\u001B[43mxtrain\u001B[49m\u001B[43m,\u001B[49m\u001B[43m \u001B[49m\u001B[43mytrain\u001B[49m\u001B[43m,\u001B[49m\u001B[43m \u001B[49m\u001B[43mn_models\u001B[49m\u001B[38;5;241;43m=\u001B[39;49m\u001B[38;5;241;43m5\u001B[39;49m\u001B[43m)\u001B[49m\n\u001B[1;32m      4\u001B[0m predictions \u001B[38;5;241m=\u001B[39m predict_bagging(bagged_models, xtest)\n\u001B[1;32m      5\u001B[0m \u001B[38;5;28mprint\u001B[39m(\u001B[38;5;124m\"\u001B[39m\u001B[38;5;124mBagged Predictions:\u001B[39m\u001B[38;5;124m\"\u001B[39m, predictions)\n",
      "Cell \u001B[0;32mIn[3], line 11\u001B[0m, in \u001B[0;36mbagging\u001B[0;34m(X, y, n_models)\u001B[0m\n\u001B[1;32m      8\u001B[0m \u001B[38;5;28;01mfor\u001B[39;00m _ \u001B[38;5;129;01min\u001B[39;00m \u001B[38;5;28mrange\u001B[39m(n_models):\n\u001B[1;32m      9\u001B[0m     \u001B[38;5;66;03m# Create a random subset of the data with replacement\u001B[39;00m\n\u001B[1;32m     10\u001B[0m     indices \u001B[38;5;241m=\u001B[39m np\u001B[38;5;241m.\u001B[39mrandom\u001B[38;5;241m.\u001B[39mchoice(\u001B[38;5;28mlen\u001B[39m(X), size\u001B[38;5;241m=\u001B[39m\u001B[38;5;28mlen\u001B[39m(X), replace\u001B[38;5;241m=\u001B[39m\u001B[38;5;28;01mTrue\u001B[39;00m)\n\u001B[0;32m---> 11\u001B[0m     X_subset, y_subset \u001B[38;5;241m=\u001B[39m \u001B[43mX\u001B[49m\u001B[43m[\u001B[49m\u001B[43mindices\u001B[49m\u001B[43m]\u001B[49m, y[indices]\n\u001B[1;32m     13\u001B[0m     \u001B[38;5;66;03m# Train a model on the subset\u001B[39;00m\n\u001B[1;32m     14\u001B[0m     model \u001B[38;5;241m=\u001B[39m DecisionTreeClassifier()\n",
      "File \u001B[0;32m/Library/Python/3.9/site-packages/pandas/core/frame.py:3899\u001B[0m, in \u001B[0;36mDataFrame.__getitem__\u001B[0;34m(self, key)\u001B[0m\n\u001B[1;32m   3897\u001B[0m     \u001B[38;5;28;01mif\u001B[39;00m is_iterator(key):\n\u001B[1;32m   3898\u001B[0m         key \u001B[38;5;241m=\u001B[39m \u001B[38;5;28mlist\u001B[39m(key)\n\u001B[0;32m-> 3899\u001B[0m     indexer \u001B[38;5;241m=\u001B[39m \u001B[38;5;28;43mself\u001B[39;49m\u001B[38;5;241;43m.\u001B[39;49m\u001B[43mcolumns\u001B[49m\u001B[38;5;241;43m.\u001B[39;49m\u001B[43m_get_indexer_strict\u001B[49m\u001B[43m(\u001B[49m\u001B[43mkey\u001B[49m\u001B[43m,\u001B[49m\u001B[43m \u001B[49m\u001B[38;5;124;43m\"\u001B[39;49m\u001B[38;5;124;43mcolumns\u001B[39;49m\u001B[38;5;124;43m\"\u001B[39;49m\u001B[43m)\u001B[49m[\u001B[38;5;241m1\u001B[39m]\n\u001B[1;32m   3901\u001B[0m \u001B[38;5;66;03m# take() does not accept boolean indexers\u001B[39;00m\n\u001B[1;32m   3902\u001B[0m \u001B[38;5;28;01mif\u001B[39;00m \u001B[38;5;28mgetattr\u001B[39m(indexer, \u001B[38;5;124m\"\u001B[39m\u001B[38;5;124mdtype\u001B[39m\u001B[38;5;124m\"\u001B[39m, \u001B[38;5;28;01mNone\u001B[39;00m) \u001B[38;5;241m==\u001B[39m \u001B[38;5;28mbool\u001B[39m:\n",
      "File \u001B[0;32m/Library/Python/3.9/site-packages/pandas/core/indexes/base.py:6115\u001B[0m, in \u001B[0;36mIndex._get_indexer_strict\u001B[0;34m(self, key, axis_name)\u001B[0m\n\u001B[1;32m   6112\u001B[0m \u001B[38;5;28;01melse\u001B[39;00m:\n\u001B[1;32m   6113\u001B[0m     keyarr, indexer, new_indexer \u001B[38;5;241m=\u001B[39m \u001B[38;5;28mself\u001B[39m\u001B[38;5;241m.\u001B[39m_reindex_non_unique(keyarr)\n\u001B[0;32m-> 6115\u001B[0m \u001B[38;5;28;43mself\u001B[39;49m\u001B[38;5;241;43m.\u001B[39;49m\u001B[43m_raise_if_missing\u001B[49m\u001B[43m(\u001B[49m\u001B[43mkeyarr\u001B[49m\u001B[43m,\u001B[49m\u001B[43m \u001B[49m\u001B[43mindexer\u001B[49m\u001B[43m,\u001B[49m\u001B[43m \u001B[49m\u001B[43maxis_name\u001B[49m\u001B[43m)\u001B[49m\n\u001B[1;32m   6117\u001B[0m keyarr \u001B[38;5;241m=\u001B[39m \u001B[38;5;28mself\u001B[39m\u001B[38;5;241m.\u001B[39mtake(indexer)\n\u001B[1;32m   6118\u001B[0m \u001B[38;5;28;01mif\u001B[39;00m \u001B[38;5;28misinstance\u001B[39m(key, Index):\n\u001B[1;32m   6119\u001B[0m     \u001B[38;5;66;03m# GH 42790 - Preserve name from an Index\u001B[39;00m\n",
      "File \u001B[0;32m/Library/Python/3.9/site-packages/pandas/core/indexes/base.py:6176\u001B[0m, in \u001B[0;36mIndex._raise_if_missing\u001B[0;34m(self, key, indexer, axis_name)\u001B[0m\n\u001B[1;32m   6174\u001B[0m     \u001B[38;5;28;01mif\u001B[39;00m use_interval_msg:\n\u001B[1;32m   6175\u001B[0m         key \u001B[38;5;241m=\u001B[39m \u001B[38;5;28mlist\u001B[39m(key)\n\u001B[0;32m-> 6176\u001B[0m     \u001B[38;5;28;01mraise\u001B[39;00m \u001B[38;5;167;01mKeyError\u001B[39;00m(\u001B[38;5;124mf\u001B[39m\u001B[38;5;124m\"\u001B[39m\u001B[38;5;124mNone of [\u001B[39m\u001B[38;5;132;01m{\u001B[39;00mkey\u001B[38;5;132;01m}\u001B[39;00m\u001B[38;5;124m] are in the [\u001B[39m\u001B[38;5;132;01m{\u001B[39;00maxis_name\u001B[38;5;132;01m}\u001B[39;00m\u001B[38;5;124m]\u001B[39m\u001B[38;5;124m\"\u001B[39m)\n\u001B[1;32m   6178\u001B[0m not_found \u001B[38;5;241m=\u001B[39m \u001B[38;5;28mlist\u001B[39m(ensure_index(key)[missing_mask\u001B[38;5;241m.\u001B[39mnonzero()[\u001B[38;5;241m0\u001B[39m]]\u001B[38;5;241m.\u001B[39munique())\n\u001B[1;32m   6179\u001B[0m \u001B[38;5;28;01mraise\u001B[39;00m \u001B[38;5;167;01mKeyError\u001B[39;00m(\u001B[38;5;124mf\u001B[39m\u001B[38;5;124m\"\u001B[39m\u001B[38;5;132;01m{\u001B[39;00mnot_found\u001B[38;5;132;01m}\u001B[39;00m\u001B[38;5;124m not in index\u001B[39m\u001B[38;5;124m\"\u001B[39m)\n",
      "\u001B[0;31mKeyError\u001B[0m: \"None of [Index([ 86033,  86519,  87616,   7860,   1992,   1606,    942,  45277,    955,\\n        59869,\\n       ...\\n        84883, 100075,  89371,   9394, 103357,  58353,  22086,  55785,   8013,\\n        31490],\\n      dtype='int64', length=108999)] are in the [columns]\""
     ]
    }
   ],
   "source": [
    "from sklearn.model_selection import train_test_split\n",
    "xtrain,xtest,ytrain,ytest=train_test_split(x,y,test_size=0.30,shuffle=True,train_size=0.70)\n",
    "bagged_models = bagging(xtrain, ytrain, n_models=5)\n",
    "predictions = predict_bagging(bagged_models, xtest)\n",
    "print(\"Bagged Predictions:\", predictions)"
   ],
   "metadata": {
    "collapsed": false,
    "ExecuteTime": {
     "end_time": "2023-12-20T23:31:39.786168Z",
     "start_time": "2023-12-20T23:31:39.260410Z"
    }
   },
   "id": "cd37abfe3e698ec6"
  },
  {
   "cell_type": "code",
   "execution_count": null,
   "outputs": [],
   "source": [],
   "metadata": {
    "collapsed": false,
    "ExecuteTime": {
     "start_time": "2023-12-20T23:31:39.784314Z"
    }
   },
   "id": "789d1cdb28b22062"
  }
 ],
 "metadata": {
  "kernelspec": {
   "display_name": "Python 3",
   "language": "python",
   "name": "python3"
  },
  "language_info": {
   "codemirror_mode": {
    "name": "ipython",
    "version": 2
   },
   "file_extension": ".py",
   "mimetype": "text/x-python",
   "name": "python",
   "nbconvert_exporter": "python",
   "pygments_lexer": "ipython2",
   "version": "2.7.6"
  }
 },
 "nbformat": 4,
 "nbformat_minor": 5
}
