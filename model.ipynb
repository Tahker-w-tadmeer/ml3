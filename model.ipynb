{
 "cells": [
  {
   "cell_type": "code",
   "execution_count": 5,
   "outputs": [],
   "source": [
    "import pandas as pd\n",
    "\n",
    "df = pd.read_csv('tahkeer_data_cleaned.csv')"
   ],
   "metadata": {
    "collapsed": true,
    "ExecuteTime": {
     "start_time": "2023-12-24T20:54:15.894232Z",
     "end_time": "2023-12-24T20:54:17.510191Z"
    }
   },
   "id": "initial_id"
  },
  {
   "cell_type": "code",
   "execution_count": 6,
   "outputs": [],
   "source": [
    "columns = df.columns.tolist()\n",
    "columns.remove(\"smoking\")\n",
    "features_x = df[columns]\n",
    "class_y = df[\"smoking\"]"
   ],
   "metadata": {
    "collapsed": false,
    "ExecuteTime": {
     "start_time": "2023-12-24T20:54:18.088532Z",
     "end_time": "2023-12-24T20:54:18.103316Z"
    }
   },
   "id": "fe9ab1e20fe86d44"
  },
  {
   "cell_type": "code",
   "execution_count": 7,
   "outputs": [],
   "source": [
    "from sklearn.model_selection import train_test_split\n",
    "from sklearn.metrics import accuracy_score\n",
    "\n",
    "xtrain, xtest, ytrain, ytest = train_test_split(features_x, class_y, test_size=0.30, shuffle=False, train_size=0.70)"
   ],
   "metadata": {
    "collapsed": false,
    "ExecuteTime": {
     "start_time": "2023-12-24T20:54:19.172152Z",
     "end_time": "2023-12-24T20:54:19.183277Z"
    }
   },
   "id": "cd37abfe3e698ec6"
  },
  {
   "cell_type": "code",
   "execution_count": 8,
   "outputs": [],
   "source": [
    "import numpy as np\n",
    "from sklearn.tree import DecisionTreeClassifier\n",
    "\n",
    "class BaggingClassifier:\n",
    "    def __init__(self, n_estimators=100, max_depth=None, threshold=0.5):\n",
    "        self.n_estimators = n_estimators\n",
    "        self.max_depth = max_depth\n",
    "        self.threshold = threshold\n",
    "        self.models = [DecisionTreeClassifier(max_depth=self.max_depth) for _ in range(n_estimators)] \n",
    "        \n",
    "        \n",
    "    def fit(self, x, y):\n",
    "        for model in self.models:\n",
    "            indices = np.random.choice(len(x), len(x), replace=True)\n",
    "            x_subset, y_subset = x.iloc[indices], y.iloc[indices] \n",
    "            model.fit(x_subset, y_subset)\n",
    "        \n",
    "        return self\n",
    "            \n",
    "\n",
    "    def predict(self, x):\n",
    "        pred = np.zeros((len(x), self.n_estimators))\n",
    "        for i, model in enumerate(self.models):\n",
    "            pred[:, i] = model.predict(x)\n",
    "        avg_predictions = np.mean(pred, axis=1)\n",
    "        binary_predictions = (avg_predictions >= self.threshold).astype(int)\n",
    "        return binary_predictions\n",
    "    \n",
    "    def get_params(self, deep=True):\n",
    "        return {\n",
    "            'n_estimators': self.n_estimators,\n",
    "            'max_depth': self.max_depth,\n",
    "            'threshold': self.threshold,\n",
    "        }\n",
    "        \n",
    "    def set_params(self, **params):\n",
    "        if not params:\n",
    "            return self\n",
    "\n",
    "        for param, value in params.items():\n",
    "            setattr(self, param, value)\n",
    "        \n",
    "        return self"
   ],
   "metadata": {
    "collapsed": false,
    "ExecuteTime": {
     "start_time": "2023-12-24T20:54:19.743851Z",
     "end_time": "2023-12-24T20:54:19.748490Z"
    }
   },
   "id": "9fac969431223e6e"
  },
  {
   "cell_type": "code",
   "execution_count": 9,
   "outputs": [],
   "source": [
    "class AdaBoost:\n",
    "    def __init__(self, n_estimators=50, max_depth=4):\n",
    "        self.n_estimators = n_estimators\n",
    "        self.alphas = []\n",
    "        self.models = []\n",
    "        self.max_depth = max_depth\n",
    "\n",
    "    def fit(self, x, y):\n",
    "        x = np.array(x)\n",
    "        y = np.array(y)\n",
    "        # Get the number of rows and columns\n",
    "        n_samples, n_features = x.shape\n",
    "        # Initialize the weights to 1/N\n",
    "        weights = np.ones(n_samples) / n_samples\n",
    "\n",
    "        for _ in range(self.n_estimators):\n",
    "            model = DecisionTreeClassifier(max_depth=self.max_depth)\n",
    "            model.fit(x, y, sample_weight=weights)\n",
    "            y_pred = model.predict(x)\n",
    "            weighted_error = np.sum(weights[y_pred != y])\n",
    "            if weighted_error >= 0.5:\n",
    "                break\n",
    "\n",
    "            alpha = 0.5 * np.log((1.0 - weighted_error) / max(weighted_error, 1e-10))\n",
    "            self.alphas.append(alpha)\n",
    "            self.models.append(model)\n",
    "\n",
    "            # Update weights\n",
    "            weights *= np.exp(-alpha * y * y_pred)\n",
    "            weights /= np.sum(weights)\n",
    "        \n",
    "        return self\n",
    "\n",
    "    def predict(self, x):\n",
    "        x = np.array(x)\n",
    "        pred = np.zeros(len(x))\n",
    "        for alpha, model in zip(self.alphas, self.models):\n",
    "            pred += alpha * model.predict(x)\n",
    "        return np.sign(pred)\n",
    "    \n",
    "    def get_params(self, deep=True):\n",
    "        return {\n",
    "            'n_estimators': self.n_estimators,\n",
    "            'max_depth': self.max_depth,\n",
    "        }\n",
    "        \n",
    "    def set_params(self, **params):\n",
    "        if not params:\n",
    "            return self\n",
    "\n",
    "        for param, value in params.items():\n",
    "            setattr(self, param, value)\n",
    "        \n",
    "        return self"
   ],
   "metadata": {
    "collapsed": false,
    "ExecuteTime": {
     "start_time": "2023-12-24T20:54:20.627545Z",
     "end_time": "2023-12-24T20:54:20.636794Z"
    }
   },
   "id": "54300543aa3d236d"
  },
  {
   "cell_type": "code",
   "execution_count": null,
   "outputs": [],
   "source": [
    "class RandomForestClassifier:\n",
    "    def __init__(self, n_estimators=100, max_depth=None, min_samples_split=2, min_samples_leaf=1):\n",
    "        self.n_estimators = n_estimators\n",
    "        self.max_depth = max_depth\n",
    "        self.min_samples_split = min_samples_split\n",
    "        self.min_samples_leaf = min_samples_leaf\n",
    "        self.models = []\n",
    "\n",
    "    def fit(self, x, y):\n",
    "        x = np.array(x)\n",
    "        y = np.array(y)\n",
    "        n_samples, n_features = x.shape\n",
    "        for _ in range(self.n_estimators):\n",
    "            # Randomly select a subset of features\n",
    "            selected_features = np.random.choice(n_features, size=int(np.sqrt(n_features)), replace=False)\n",
    "            x_subset = x[:, selected_features]\n",
    "\n",
    "            # Create a decision tree with random features\n",
    "            tree = DecisionTreeClassifier(\n",
    "                max_depth=self.max_depth,\n",
    "                min_samples_split=self.min_samples_split,\n",
    "                min_samples_leaf=self.min_samples_leaf\n",
    "            )\n",
    "            tree.fit(x_subset, y)\n",
    "            self.models.append((tree, selected_features))\n",
    "        return self\n",
    "\n",
    "    def predict(self, x):\n",
    "        x = np.array(x)\n",
    "        pred = np.zeros((x.shape[0], self.n_estimators))\n",
    "        for i, (tree, selected_features) in enumerate(self.models):\n",
    "            x_subset = x[:, selected_features]\n",
    "            pred[:, i] = tree.predict(x_subset)\n",
    "\n",
    "        # Use majority voting for the final prediction\n",
    "        final_predictions = np.apply_along_axis(lambda x: np.bincount(x.astype(int)).argmax(), axis=1, arr=pred)\n",
    "        return final_predictions\n",
    "    \n",
    "    def get_params(self, deep=True):\n",
    "        return {\n",
    "            'n_estimators': self.n_estimators,\n",
    "            'max_depth': self.max_depth,\n",
    "            'min_samples_split': self.min_samples_split,\n",
    "            'min_samples_leaf': self.min_samples_leaf\n",
    "        }\n",
    "        \n",
    "    def set_params(self, **params):\n",
    "        if not params:\n",
    "            return self\n",
    "\n",
    "        for param, value in params.items():\n",
    "            setattr(self, param, value)\n",
    "        \n",
    "        return self"
   ],
   "metadata": {
    "collapsed": false,
    "ExecuteTime": {
     "start_time": "2023-12-24T20:54:21.191747Z",
     "end_time": "2023-12-24T20:54:21.200930Z"
    },
    "pycharm": {
     "is_executing": true
    }
   },
   "id": "f4260778e822584a"
  },
  {
   "cell_type": "code",
   "execution_count": 30,
   "outputs": [
    {
     "name": "stdout",
     "output_type": "stream",
     "text": [
      "Bagging Accuracy: 0.7316913595880292\n"
     ]
    }
   ],
   "source": [
    "bagging_model = BaggingClassifier(n_estimators=100, max_depth=60)\n",
    "bagging_model.fit(xtrain, ytrain)\n",
    "\n",
    "bagging_predictions = bagging_model.predict(xtest)\n",
    "bagging_accuracy = accuracy_score(ytest, bagging_predictions)\n",
    "print(f\"Bagging Accuracy: {bagging_accuracy}\")"
   ],
   "metadata": {
    "collapsed": false,
    "ExecuteTime": {
     "start_time": "2023-12-22T21:23:29.313234Z",
     "end_time": "2023-12-22T21:25:10.344545Z"
    }
   },
   "id": "789d1cdb28b22062"
  },
  {
   "cell_type": "code",
   "execution_count": 31,
   "outputs": [
    {
     "name": "stdout",
     "output_type": "stream",
     "text": [
      "Boosting Accuracy: 0.7187117470769491\n"
     ]
    }
   ],
   "source": [
    "adaboost = AdaBoost(n_estimators=300)\n",
    "adaboost.fit(xtrain, ytrain)\n",
    "\n",
    "predictions = adaboost.predict(xtest)\n",
    "\n",
    "accuracy = accuracy_score(ytest, predictions)\n",
    "print(f'Boosting Accuracy: {accuracy}')"
   ],
   "metadata": {
    "collapsed": false,
    "ExecuteTime": {
     "start_time": "2023-12-22T21:25:10.345569Z",
     "end_time": "2023-12-22T21:26:02.784612Z"
    }
   },
   "id": "d0b842f92c466fda"
  },
  {
   "cell_type": "code",
   "execution_count": 32,
   "outputs": [
    {
     "name": "stdout",
     "output_type": "stream",
     "text": [
      "Random Forest Accuracy: 0.7062597610907095\n"
     ]
    }
   ],
   "source": [
    "random_forest = RandomForestClassifier(n_estimators=150, max_depth=3, min_samples_split=2, min_samples_leaf=1)\n",
    "random_forest.fit(xtrain, ytrain)\n",
    "\n",
    "predictions = random_forest.predict(xtest)\n",
    "accuracy = accuracy_score(ytest, predictions)\n",
    "print(f'Random Forest Accuracy: {accuracy}')"
   ],
   "metadata": {
    "collapsed": false,
    "ExecuteTime": {
     "start_time": "2023-12-22T21:26:02.785609Z",
     "end_time": "2023-12-22T21:26:09.819993Z"
    }
   },
   "id": "571c8202d45bc0c0"
  },
  {
   "cell_type": "markdown",
   "source": [
    "# Hyperparameter Tuning\n",
    "We will use grid search and randomized search methods to choose better hyperparameters"
   ],
   "metadata": {
    "collapsed": false
   },
   "id": "53df2cafbadf3fd1"
  },
  {
   "cell_type": "code",
   "execution_count": 22,
   "outputs": [],
   "source": [
    "from sklearn.model_selection import GridSearchCV\n",
    "from sklearn.model_selection import RandomizedSearchCV\n",
    "from skopt import BayesSearchCV\n",
    "import multiprocessing\n",
    "\n",
    "n_jobs = multiprocessing.cpu_count()-1\n",
    "\n",
    "np.int = int\n",
    "\n",
    "def print_results(search_results):\n",
    "    best_params = search_results.best_params_\n",
    "    best_score = search_results.best_score_\n",
    "\n",
    "    print(\"Best Parameters:\", best_params)\n",
    "    print(\"Best Score:\", best_score)"
   ],
   "metadata": {
    "collapsed": false,
    "ExecuteTime": {
     "start_time": "2023-12-25T01:38:37.988217Z",
     "end_time": "2023-12-25T01:38:37.997227Z"
    }
   },
   "id": "251c136aff5a0d47"
  },
  {
   "cell_type": "markdown",
   "source": [
    "## Tuning Bagging model"
   ],
   "metadata": {
    "collapsed": false
   },
   "id": "d2b8e2e7043f0569"
  },
  {
   "cell_type": "code",
   "execution_count": 23,
   "outputs": [
    {
     "name": "stdout",
     "output_type": "stream",
     "text": [
      "Grid search - Bagging: \n",
      "Best Parameters: {'max_depth': 50, 'n_estimators': 100, 'threshold': 0.5}\n",
      "Best Score: 0.7288794679763679\n"
     ]
    }
   ],
   "source": [
    "params = {\n",
    "    'n_estimators': [100, 200, 250, 300],\n",
    "    'max_depth': [50, 60, 70, 90],\n",
    "    'threshold': [0.3, 0.5, 0.7],\n",
    "}\n",
    "\n",
    "bagging = BaggingClassifier()\n",
    "grid_search = GridSearchCV(estimator=bagging, param_grid=params, scoring='accuracy', n_jobs=n_jobs)\n",
    "grid_search.fit(xtrain, ytrain)\n",
    "print(\"Grid search - Bagging: \")\n",
    "print_results(grid_search)"
   ],
   "metadata": {
    "collapsed": false,
    "ExecuteTime": {
     "start_time": "2023-12-25T01:38:40.026466Z",
     "end_time": "2023-12-25T02:32:13.959213Z"
    }
   },
   "id": "53319dfebd5d355"
  },
  {
   "cell_type": "code",
   "execution_count": 24,
   "outputs": [
    {
     "name": "stdout",
     "output_type": "stream",
     "text": [
      "Random search - Bagging: \n",
      "Best Parameters: {'threshold': 0.5, 'n_estimators': 100, 'max_depth': 90}\n",
      "Best Score: 0.7281558532037508\n"
     ]
    }
   ],
   "source": [
    "random_search = RandomizedSearchCV(estimator=bagging, param_distributions=params, n_iter=6, scoring='accuracy', random_state=42, n_jobs=n_jobs)\n",
    "\n",
    "random_search.fit(xtrain, ytrain)\n",
    "print(\"Random search - Bagging: \")\n",
    "print_results(random_search)"
   ],
   "metadata": {
    "collapsed": false,
    "ExecuteTime": {
     "start_time": "2023-12-25T02:32:13.961234Z",
     "end_time": "2023-12-25T02:40:09.478768Z"
    }
   },
   "id": "694afd5039dfb05e"
  },
  {
   "cell_type": "code",
   "execution_count": null,
   "outputs": [],
   "source": [
    "bayes_optimization = BayesSearchCV(bagging, params, n_iter=6, scoring='accuracy', random_state=42, n_jobs=n_jobs)\n",
    "\n",
    "bayes_optimization.fit(xtrain, ytrain)\n",
    "print(\"Bayesian Optimization - Bagging: \")\n",
    "print_results(bayes_optimization)"
   ],
   "metadata": {
    "collapsed": false,
    "ExecuteTime": {
     "start_time": "2023-12-25T00:44:43.680508Z",
     "end_time": "2023-12-25T00:56:42.954458Z"
    },
    "pycharm": {
     "is_executing": true
    }
   }
  },
  {
   "cell_type": "markdown",
   "source": [
    "## Tuning AdaBoost model"
   ],
   "metadata": {
    "collapsed": false
   },
   "id": "1c9077671a425e32"
  },
  {
   "cell_type": "code",
   "execution_count": 15,
   "outputs": [
    {
     "name": "stdout",
     "output_type": "stream",
     "text": [
      "Grid search - AdaBoost: \n",
      "Best Parameters: {'n_estimators': 100}\n",
      "Best Score: 0.714262437542956\n"
     ]
    }
   ],
   "source": [
    "params = {\n",
    "    'n_estimators': [100, 200, 250, 300, 500, 1000],\n",
    "}\n",
    "\n",
    "adaboost = AdaBoost()\n",
    "grid_search = GridSearchCV(estimator=adaboost, param_grid=params, scoring='accuracy', n_jobs=n_jobs)\n",
    "grid_search.fit(xtrain, ytrain)\n",
    "print(\"Grid search - AdaBoost: \")\n",
    "print_results(grid_search)"
   ],
   "metadata": {
    "collapsed": false,
    "ExecuteTime": {
     "start_time": "2023-12-24T21:05:50.996627Z",
     "end_time": "2023-12-24T21:12:54.033123Z"
    }
   },
   "id": "15b08cb2927311df"
  },
  {
   "cell_type": "code",
   "execution_count": 37,
   "outputs": [
    {
     "name": "stdout",
     "output_type": "stream",
     "text": [
      "Random search - AdaBoost: \n",
      "Best Parameters: {'n_estimators': 100}\n",
      "Best Score: 0.714262437542956\n"
     ]
    }
   ],
   "source": [
    "random_search = RandomizedSearchCV(estimator=adaboost, param_distributions=params, n_iter=6, scoring='accuracy', random_state=42, n_jobs=n_jobs)\n",
    "\n",
    "random_search.fit(xtrain, ytrain)\n",
    "print(\"Random search - AdaBoost: \")\n",
    "print_results(random_search)"
   ],
   "metadata": {
    "collapsed": false,
    "ExecuteTime": {
     "start_time": "2023-12-22T22:36:08.663474Z",
     "end_time": "2023-12-22T22:42:15.669371Z"
    }
   },
   "id": "39ac7496ae49fcc6"
  },
  {
   "cell_type": "code",
   "execution_count": 18,
   "outputs": [
    {
     "name": "stdout",
     "output_type": "stream",
     "text": [
      "Bayesian Optimization - AdaBoost: \n",
      "Best Parameters: OrderedDict([('n_estimators', 250)])\n",
      "Best Score: 0.714262437542956\n"
     ]
    }
   ],
   "source": [
    "bayes_optimization = BayesSearchCV(adaboost, params, n_iter=6, scoring='accuracy', random_state=42, n_jobs=n_jobs)\n",
    "\n",
    "bayes_optimization.fit(xtrain, ytrain)\n",
    "print(\"Bayesian Optimization - AdaBoost: \")\n",
    "print_results(bayes_optimization)"
   ],
   "metadata": {
    "collapsed": false,
    "ExecuteTime": {
     "start_time": "2023-12-25T00:31:19.832930Z",
     "end_time": "2023-12-25T00:40:19.260341Z"
    }
   }
  },
  {
   "cell_type": "markdown",
   "source": [
    "## Tuning Random Forest model"
   ],
   "metadata": {
    "collapsed": false
   },
   "id": "98f2ff3ab55492a8"
  },
  {
   "cell_type": "code",
   "execution_count": 38,
   "outputs": [
    {
     "name": "stdout",
     "output_type": "stream",
     "text": [
      "Grid search - Random Forest: \n",
      "Best Parameters: {'max_depth': 10, 'min_samples_leaf': 4, 'min_samples_split': 2, 'n_estimators': 250}\n",
      "Best Score: 0.7214714514997054\n"
     ]
    }
   ],
   "source": [
    "params = {\n",
    "    'n_estimators': [100, 200, 250],\n",
    "    'max_depth': [None, 5, 10],\n",
    "    'min_samples_split': [2, 3],\n",
    "    'min_samples_leaf': [1, 2, 4],\n",
    "}\n",
    "\n",
    "rf_model = RandomForestClassifier()\n",
    "grid_search = GridSearchCV(estimator=rf_model, param_grid=params, scoring='accuracy', n_jobs=n_jobs)\n",
    "grid_search.fit(xtrain, ytrain)\n",
    "\n",
    "print(\"Grid search - Random Forest: \")\n",
    "print_results(grid_search)"
   ],
   "metadata": {
    "collapsed": false,
    "ExecuteTime": {
     "start_time": "2023-12-22T22:42:15.671365Z",
     "end_time": "2023-12-22T23:02:37.847581Z"
    }
   },
   "id": "84091fb7c66cd044"
  },
  {
   "cell_type": "code",
   "execution_count": 40,
   "outputs": [
    {
     "name": "stdout",
     "output_type": "stream",
     "text": [
      "Random Search - Random Forest: \n",
      "Best Parameters: {'n_estimators': 250, 'min_samples_split': 2, 'min_samples_leaf': 2, 'max_depth': 10}\n",
      "Best Score: 0.7211367772692194\n"
     ]
    }
   ],
   "source": [
    "random_search = RandomizedSearchCV(estimator=rf_model, param_distributions=params, n_iter=6, scoring='accuracy', random_state=42, n_jobs=n_jobs)\n",
    "random_search.fit(xtrain, ytrain)\n",
    "\n",
    "print(\"Random Search - Random Forest: \")\n",
    "print_results(random_search)"
   ],
   "metadata": {
    "collapsed": false,
    "ExecuteTime": {
     "start_time": "2023-12-22T23:02:37.853140Z",
     "end_time": "2023-12-22T23:05:57.654488Z"
    }
   },
   "id": "a86e59cdb4e81861"
  },
  {
   "cell_type": "code",
   "execution_count": 20,
   "outputs": [
    {
     "name": "stdout",
     "output_type": "stream",
     "text": [
      "Bayesian Optimization - Random Forest: \n",
      "Best Parameters: OrderedDict([('max_depth', 10), ('min_samples_leaf', 2), ('min_samples_split', 3), ('n_estimators', 200)])\n",
      "Best Score: 0.7210644310501265\n"
     ]
    }
   ],
   "source": [
    "bayes_optimization = BayesSearchCV(rf_model, params, n_iter=6, scoring='accuracy', random_state=42, n_jobs=n_jobs)\n",
    "\n",
    "bayes_optimization.fit(xtrain, ytrain)\n",
    "print(\"Bayesian Optimization - Random Forest: \")\n",
    "print_results(bayes_optimization)"
   ],
   "metadata": {
    "collapsed": false,
    "ExecuteTime": {
     "start_time": "2023-12-25T00:41:52.976326Z",
     "end_time": "2023-12-25T00:44:43.678350Z"
    }
   }
  }
 ],
 "metadata": {
  "kernelspec": {
   "display_name": "Python 3",
   "language": "python",
   "name": "python3"
  },
  "language_info": {
   "codemirror_mode": {
    "name": "ipython",
    "version": 2
   },
   "file_extension": ".py",
   "mimetype": "text/x-python",
   "name": "python",
   "nbconvert_exporter": "python",
   "pygments_lexer": "ipython2",
   "version": "2.7.6"
  }
 },
 "nbformat": 4,
 "nbformat_minor": 5
}
