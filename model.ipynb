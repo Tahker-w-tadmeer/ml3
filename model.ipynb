{
 "cells": [
  {
   "cell_type": "code",
   "execution_count": 65,
   "id": "initial_id",
   "metadata": {
    "collapsed": true,
    "ExecuteTime": {
     "end_time": "2023-12-20T22:51:06.695880800Z",
     "start_time": "2023-12-20T22:51:06.192993200Z"
    }
   },
   "outputs": [
    {
     "name": "stdout",
     "output_type": "stream",
     "text": [
      "[[0.00000000e+00 2.85714286e-01 1.42857143e-01 ... 0.00000000e+00\n",
      "  6.11111111e-01 1.00000000e+00]\n",
      " [1.00000000e+00 3.57142857e-01 3.85714286e-01 ... 1.00000000e+00\n",
      "  7.33333333e-01 0.00000000e+00]\n",
      " [2.00000000e+00 5.00000000e-01 2.14285714e-01 ... 0.00000000e+00\n",
      "  4.22222222e-01 1.00000000e+00]\n",
      " ...\n",
      " [1.59253000e+05 1.42857143e-01 8.14285714e-01 ... 0.00000000e+00\n",
      "  3.77777778e-01 0.00000000e+00]\n",
      " [1.59254000e+05 5.00000000e-01 3.57142857e-01 ... 0.00000000e+00\n",
      "  4.55555556e-01 1.00000000e+00]\n",
      " [1.59255000e+05 7.14285714e-02 8.14285714e-01 ... 0.00000000e+00\n",
      "  5.00000000e-01 0.00000000e+00]]\n"
     ]
    }
   ],
   "source": [
    "import pandas as pd\n",
    "df = pd.read_csv('tahkeer_data_cleaned.csv', sep=',')\n",
    "print(df.values)"
   ]
  },
  {
   "cell_type": "code",
   "execution_count": 66,
   "outputs": [],
   "source": [
    "import numpy as np\n",
    "from sklearn.tree import DecisionTreeClassifier\n",
    "from sklearn.metrics import accuracy_score\n",
    "\n",
    "# Function to implement bagging\n",
    "def bagging(X, y, n_models):\n",
    "    models = []\n",
    "    for _ in range(n_models):\n",
    "        # Create a random subset of the data with replacement\n",
    "        indices = np.random.choice(len(X), size=len(X), replace=True)\n",
    "        X_subset, y_subset = X[indices], y[indices]\n",
    "\n",
    "        # Train a model on the subset\n",
    "        model = DecisionTreeClassifier()\n",
    "        model.fit(X_subset, y_subset)\n",
    "        models.append(model)\n",
    "\n",
    "    return models\n",
    "\n",
    "# Function to make predictions using the bagged models\n",
    "def predict_bagging(models, X):\n",
    "    predictions = np.zeros((len(X), len(models)))\n",
    "\n",
    "    for i, model in enumerate(models):\n",
    "        predictions[:, i] = model.predict(X)\n",
    "\n",
    "    # Use majority voting to get the final predictions\n",
    "    final_predictions = np.round(np.mean(predictions, axis=1))\n",
    "\n",
    "    return final_predictions"
   ],
   "metadata": {
    "collapsed": false,
    "ExecuteTime": {
     "end_time": "2023-12-20T22:51:06.695880800Z",
     "start_time": "2023-12-20T22:51:06.667481600Z"
    }
   },
   "id": "9fac969431223e6e"
  },
  {
   "cell_type": "code",
   "execution_count": 67,
   "outputs": [
    {
     "name": "stdout",
     "output_type": "stream",
     "text": [
      "['weight(kg)', 'HDL', 'hearing(left)', 'triglyceride', 'fasting blood sugar', 'Cholesterol', 'LDL', 'AST', 'Gtp', 'eyesight(left)', 'waist(cm)', 'hearing(right)', 'serum creatinine', 'dental caries', 'systolic', 'smoking']\n",
      "['weight(kg)', 'HDL', 'hearing(left)', 'triglyceride', 'fasting blood sugar', 'Cholesterol', 'LDL', 'AST', 'Gtp', 'eyesight(left)', 'waist(cm)', 'hearing(right)', 'serum creatinine', 'dental caries', 'systolic']\n",
      "        Unnamed: 0  weight(kg)       HDL  hearing(left)  triglyceride  \\\n",
      "0                0    0.285714  0.142857            0.0      0.927055   \n",
      "1                1    0.357143  0.385714            1.0      0.493127   \n",
      "2                2    0.500000  0.214286            0.0      0.819477   \n",
      "3                3    0.785714  0.114286            0.0      0.827151   \n",
      "4                4    0.285714  0.200000            0.0      0.610424   \n",
      "...            ...         ...       ...            ...           ...   \n",
      "155708      159251    0.071429  0.600000            0.0      0.452922   \n",
      "155709      159252    0.500000  0.485714            0.0      0.825888   \n",
      "155710      159253    0.142857  0.814286            0.0      0.441799   \n",
      "155711      159254    0.500000  0.357143            0.0      0.746325   \n",
      "155712      159255    0.071429  0.814286            0.0      0.610424   \n",
      "\n",
      "        fasting blood sugar  Cholesterol       LDL       AST       Gtp  \\\n",
      "0                  0.283333     0.493645  0.537769  0.564271  0.565167   \n",
      "1                  0.725000     0.603205  0.756935  0.653213  0.633586   \n",
      "2                  0.158333     0.524856  0.628644  0.653213  0.711623   \n",
      "3                  0.258333     0.535026  0.667667  0.522879  0.588046   \n",
      "4                  0.258333     0.398917  0.628644  0.500602  0.464709   \n",
      "...                     ...          ...       ...       ...       ...   \n",
      "155708             0.033333     0.789269  0.855207  0.619789  0.406457   \n",
      "155709             0.241667     0.688252  0.691814  0.544068  0.477121   \n",
      "155710             0.200000     0.579437  0.628644  0.397940  0.389076   \n",
      "155711             0.516667     0.455825  0.565034  0.564271  0.633586   \n",
      "155712             0.191667     0.564873  0.570281  0.544068  0.464709   \n",
      "\n",
      "        eyesight(left)  waist(cm)  hearing(right)  serum creatinine  \\\n",
      "0             0.210526   0.462963             0.0          0.768622   \n",
      "1             0.263158   0.611111             1.0          0.800437   \n",
      "2             0.157895   0.462963             0.0          0.694135   \n",
      "3             0.736842   0.907407             0.0          0.768622   \n",
      "4             0.736842   0.453704             0.0          0.694135   \n",
      "...                ...        ...             ...               ...   \n",
      "155708        0.736842   0.240741             0.0          0.694135   \n",
      "155709        0.473684   0.481481             0.0          0.598104   \n",
      "155710        0.736842   0.185185             0.0          0.598104   \n",
      "155711        0.578947   0.666667             0.0          0.800437   \n",
      "155712        0.473684   0.377778             0.0          0.694135   \n",
      "\n",
      "        dental caries  systolic  smoking  \n",
      "0                 0.0  0.611111        1  \n",
      "1                 1.0  0.733333        0  \n",
      "2                 0.0  0.422222        1  \n",
      "3                 1.0  0.566667        0  \n",
      "4                 0.0  0.455556        1  \n",
      "...               ...       ...      ...  \n",
      "155708            0.0  0.522222        0  \n",
      "155709            0.0  0.444444        0  \n",
      "155710            0.0  0.377778        0  \n",
      "155711            0.0  0.455556        1  \n",
      "155712            0.0  0.500000        0  \n",
      "\n",
      "[155713 rows x 17 columns]\n",
      "        weight(kg)       HDL  hearing(left)  triglyceride  \\\n",
      "0         0.285714  0.142857            0.0      0.927055   \n",
      "1         0.357143  0.385714            1.0      0.493127   \n",
      "2         0.500000  0.214286            0.0      0.819477   \n",
      "3         0.785714  0.114286            0.0      0.827151   \n",
      "4         0.285714  0.200000            0.0      0.610424   \n",
      "...            ...       ...            ...           ...   \n",
      "155708    0.071429  0.600000            0.0      0.452922   \n",
      "155709    0.500000  0.485714            0.0      0.825888   \n",
      "155710    0.142857  0.814286            0.0      0.441799   \n",
      "155711    0.500000  0.357143            0.0      0.746325   \n",
      "155712    0.071429  0.814286            0.0      0.610424   \n",
      "\n",
      "        fasting blood sugar  Cholesterol       LDL       AST       Gtp  \\\n",
      "0                  0.283333     0.493645  0.537769  0.564271  0.565167   \n",
      "1                  0.725000     0.603205  0.756935  0.653213  0.633586   \n",
      "2                  0.158333     0.524856  0.628644  0.653213  0.711623   \n",
      "3                  0.258333     0.535026  0.667667  0.522879  0.588046   \n",
      "4                  0.258333     0.398917  0.628644  0.500602  0.464709   \n",
      "...                     ...          ...       ...       ...       ...   \n",
      "155708             0.033333     0.789269  0.855207  0.619789  0.406457   \n",
      "155709             0.241667     0.688252  0.691814  0.544068  0.477121   \n",
      "155710             0.200000     0.579437  0.628644  0.397940  0.389076   \n",
      "155711             0.516667     0.455825  0.565034  0.564271  0.633586   \n",
      "155712             0.191667     0.564873  0.570281  0.544068  0.464709   \n",
      "\n",
      "        eyesight(left)  waist(cm)  hearing(right)  serum creatinine  \\\n",
      "0             0.210526   0.462963             0.0          0.768622   \n",
      "1             0.263158   0.611111             1.0          0.800437   \n",
      "2             0.157895   0.462963             0.0          0.694135   \n",
      "3             0.736842   0.907407             0.0          0.768622   \n",
      "4             0.736842   0.453704             0.0          0.694135   \n",
      "...                ...        ...             ...               ...   \n",
      "155708        0.736842   0.240741             0.0          0.694135   \n",
      "155709        0.473684   0.481481             0.0          0.598104   \n",
      "155710        0.736842   0.185185             0.0          0.598104   \n",
      "155711        0.578947   0.666667             0.0          0.800437   \n",
      "155712        0.473684   0.377778             0.0          0.694135   \n",
      "\n",
      "        dental caries  systolic  \n",
      "0                 0.0  0.611111  \n",
      "1                 1.0  0.733333  \n",
      "2                 0.0  0.422222  \n",
      "3                 1.0  0.566667  \n",
      "4                 0.0  0.455556  \n",
      "...               ...       ...  \n",
      "155708            0.0  0.522222  \n",
      "155709            0.0  0.444444  \n",
      "155710            0.0  0.377778  \n",
      "155711            0.0  0.455556  \n",
      "155712            0.0  0.500000  \n",
      "\n",
      "[155713 rows x 15 columns]\n"
     ]
    }
   ],
   "source": [
    "columns = df.columns.tolist()[1:]\n",
    "print(columns)\n",
    "columns.remove(\"smoking\")\n",
    "print(columns)\n",
    "x=df[columns]\n",
    "y=df[\"smoking\"]"
   ],
   "metadata": {
    "collapsed": false,
    "ExecuteTime": {
     "end_time": "2023-12-20T22:51:06.711879100Z",
     "start_time": "2023-12-20T22:51:06.675043400Z"
    }
   },
   "id": "fe9ab1e20fe86d44"
  },
  {
   "cell_type": "code",
   "execution_count": 70,
   "outputs": [
    {
     "ename": "KeyError",
     "evalue": "\"None of [Index([ 20692,  87582,  79811,  14732,  65641,  44282,  23085,  56965,  96418,\\n        14773,\\n       ...\\n        87506,  21277,  75179,  59552, 101003,   7746,  55510,  37983,  87752,\\n        17669],\\n      dtype='int32', length=108999)] are in the [columns]\"",
     "output_type": "error",
     "traceback": [
      "\u001B[1;31m---------------------------------------------------------------------------\u001B[0m",
      "\u001B[1;31mKeyError\u001B[0m                                  Traceback (most recent call last)",
      "Cell \u001B[1;32mIn[70], line 3\u001B[0m\n\u001B[0;32m      1\u001B[0m \u001B[38;5;28;01mfrom\u001B[39;00m \u001B[38;5;21;01msklearn\u001B[39;00m\u001B[38;5;21;01m.\u001B[39;00m\u001B[38;5;21;01mmodel_selection\u001B[39;00m \u001B[38;5;28;01mimport\u001B[39;00m train_test_split\n\u001B[0;32m      2\u001B[0m xtrain,xtest,ytrain,ytest\u001B[38;5;241m=\u001B[39mtrain_test_split(x,y,test_size\u001B[38;5;241m=\u001B[39m\u001B[38;5;241m0.30\u001B[39m,shuffle\u001B[38;5;241m=\u001B[39m\u001B[38;5;28;01mTrue\u001B[39;00m,train_size\u001B[38;5;241m=\u001B[39m\u001B[38;5;241m0.70\u001B[39m)\n\u001B[1;32m----> 3\u001B[0m bagged_models \u001B[38;5;241m=\u001B[39m \u001B[43mbagging\u001B[49m\u001B[43m(\u001B[49m\u001B[43mxtrain\u001B[49m\u001B[43m,\u001B[49m\u001B[43m \u001B[49m\u001B[43mytrain\u001B[49m\u001B[43m,\u001B[49m\u001B[43m \u001B[49m\u001B[43mn_models\u001B[49m\u001B[38;5;241;43m=\u001B[39;49m\u001B[38;5;241;43m5\u001B[39;49m\u001B[43m)\u001B[49m\n\u001B[0;32m      4\u001B[0m predictions \u001B[38;5;241m=\u001B[39m predict_bagging(bagged_models, xtest)\n\u001B[0;32m      5\u001B[0m \u001B[38;5;28mprint\u001B[39m(\u001B[38;5;124m\"\u001B[39m\u001B[38;5;124mBagged Predictions:\u001B[39m\u001B[38;5;124m\"\u001B[39m, predictions)\n",
      "Cell \u001B[1;32mIn[66], line 11\u001B[0m, in \u001B[0;36mbagging\u001B[1;34m(X, y, n_models)\u001B[0m\n\u001B[0;32m      8\u001B[0m \u001B[38;5;28;01mfor\u001B[39;00m _ \u001B[38;5;129;01min\u001B[39;00m \u001B[38;5;28mrange\u001B[39m(n_models):\n\u001B[0;32m      9\u001B[0m     \u001B[38;5;66;03m# Create a random subset of the data with replacement\u001B[39;00m\n\u001B[0;32m     10\u001B[0m     indices \u001B[38;5;241m=\u001B[39m np\u001B[38;5;241m.\u001B[39mrandom\u001B[38;5;241m.\u001B[39mchoice(\u001B[38;5;28mlen\u001B[39m(X), size\u001B[38;5;241m=\u001B[39m\u001B[38;5;28mlen\u001B[39m(X), replace\u001B[38;5;241m=\u001B[39m\u001B[38;5;28;01mTrue\u001B[39;00m)\n\u001B[1;32m---> 11\u001B[0m     X_subset, y_subset \u001B[38;5;241m=\u001B[39m \u001B[43mX\u001B[49m\u001B[43m[\u001B[49m\u001B[43mindices\u001B[49m\u001B[43m]\u001B[49m, y[indices]\n\u001B[0;32m     13\u001B[0m     \u001B[38;5;66;03m# Train a model on the subset\u001B[39;00m\n\u001B[0;32m     14\u001B[0m     model \u001B[38;5;241m=\u001B[39m DecisionTreeClassifier()\n",
      "File \u001B[1;32m~\\Desktop\\pythonProject17\\venv\\Lib\\site-packages\\pandas\\core\\frame.py:3899\u001B[0m, in \u001B[0;36mDataFrame.__getitem__\u001B[1;34m(self, key)\u001B[0m\n\u001B[0;32m   3897\u001B[0m     \u001B[38;5;28;01mif\u001B[39;00m is_iterator(key):\n\u001B[0;32m   3898\u001B[0m         key \u001B[38;5;241m=\u001B[39m \u001B[38;5;28mlist\u001B[39m(key)\n\u001B[1;32m-> 3899\u001B[0m     indexer \u001B[38;5;241m=\u001B[39m \u001B[38;5;28;43mself\u001B[39;49m\u001B[38;5;241;43m.\u001B[39;49m\u001B[43mcolumns\u001B[49m\u001B[38;5;241;43m.\u001B[39;49m\u001B[43m_get_indexer_strict\u001B[49m\u001B[43m(\u001B[49m\u001B[43mkey\u001B[49m\u001B[43m,\u001B[49m\u001B[43m \u001B[49m\u001B[38;5;124;43m\"\u001B[39;49m\u001B[38;5;124;43mcolumns\u001B[39;49m\u001B[38;5;124;43m\"\u001B[39;49m\u001B[43m)\u001B[49m[\u001B[38;5;241m1\u001B[39m]\n\u001B[0;32m   3901\u001B[0m \u001B[38;5;66;03m# take() does not accept boolean indexers\u001B[39;00m\n\u001B[0;32m   3902\u001B[0m \u001B[38;5;28;01mif\u001B[39;00m \u001B[38;5;28mgetattr\u001B[39m(indexer, \u001B[38;5;124m\"\u001B[39m\u001B[38;5;124mdtype\u001B[39m\u001B[38;5;124m\"\u001B[39m, \u001B[38;5;28;01mNone\u001B[39;00m) \u001B[38;5;241m==\u001B[39m \u001B[38;5;28mbool\u001B[39m:\n",
      "File \u001B[1;32m~\\Desktop\\pythonProject17\\venv\\Lib\\site-packages\\pandas\\core\\indexes\\base.py:6115\u001B[0m, in \u001B[0;36mIndex._get_indexer_strict\u001B[1;34m(self, key, axis_name)\u001B[0m\n\u001B[0;32m   6112\u001B[0m \u001B[38;5;28;01melse\u001B[39;00m:\n\u001B[0;32m   6113\u001B[0m     keyarr, indexer, new_indexer \u001B[38;5;241m=\u001B[39m \u001B[38;5;28mself\u001B[39m\u001B[38;5;241m.\u001B[39m_reindex_non_unique(keyarr)\n\u001B[1;32m-> 6115\u001B[0m \u001B[38;5;28;43mself\u001B[39;49m\u001B[38;5;241;43m.\u001B[39;49m\u001B[43m_raise_if_missing\u001B[49m\u001B[43m(\u001B[49m\u001B[43mkeyarr\u001B[49m\u001B[43m,\u001B[49m\u001B[43m \u001B[49m\u001B[43mindexer\u001B[49m\u001B[43m,\u001B[49m\u001B[43m \u001B[49m\u001B[43maxis_name\u001B[49m\u001B[43m)\u001B[49m\n\u001B[0;32m   6117\u001B[0m keyarr \u001B[38;5;241m=\u001B[39m \u001B[38;5;28mself\u001B[39m\u001B[38;5;241m.\u001B[39mtake(indexer)\n\u001B[0;32m   6118\u001B[0m \u001B[38;5;28;01mif\u001B[39;00m \u001B[38;5;28misinstance\u001B[39m(key, Index):\n\u001B[0;32m   6119\u001B[0m     \u001B[38;5;66;03m# GH 42790 - Preserve name from an Index\u001B[39;00m\n",
      "File \u001B[1;32m~\\Desktop\\pythonProject17\\venv\\Lib\\site-packages\\pandas\\core\\indexes\\base.py:6176\u001B[0m, in \u001B[0;36mIndex._raise_if_missing\u001B[1;34m(self, key, indexer, axis_name)\u001B[0m\n\u001B[0;32m   6174\u001B[0m     \u001B[38;5;28;01mif\u001B[39;00m use_interval_msg:\n\u001B[0;32m   6175\u001B[0m         key \u001B[38;5;241m=\u001B[39m \u001B[38;5;28mlist\u001B[39m(key)\n\u001B[1;32m-> 6176\u001B[0m     \u001B[38;5;28;01mraise\u001B[39;00m \u001B[38;5;167;01mKeyError\u001B[39;00m(\u001B[38;5;124mf\u001B[39m\u001B[38;5;124m\"\u001B[39m\u001B[38;5;124mNone of [\u001B[39m\u001B[38;5;132;01m{\u001B[39;00mkey\u001B[38;5;132;01m}\u001B[39;00m\u001B[38;5;124m] are in the [\u001B[39m\u001B[38;5;132;01m{\u001B[39;00maxis_name\u001B[38;5;132;01m}\u001B[39;00m\u001B[38;5;124m]\u001B[39m\u001B[38;5;124m\"\u001B[39m)\n\u001B[0;32m   6178\u001B[0m not_found \u001B[38;5;241m=\u001B[39m \u001B[38;5;28mlist\u001B[39m(ensure_index(key)[missing_mask\u001B[38;5;241m.\u001B[39mnonzero()[\u001B[38;5;241m0\u001B[39m]]\u001B[38;5;241m.\u001B[39munique())\n\u001B[0;32m   6179\u001B[0m \u001B[38;5;28;01mraise\u001B[39;00m \u001B[38;5;167;01mKeyError\u001B[39;00m(\u001B[38;5;124mf\u001B[39m\u001B[38;5;124m\"\u001B[39m\u001B[38;5;132;01m{\u001B[39;00mnot_found\u001B[38;5;132;01m}\u001B[39;00m\u001B[38;5;124m not in index\u001B[39m\u001B[38;5;124m\"\u001B[39m)\n",
      "\u001B[1;31mKeyError\u001B[0m: \"None of [Index([ 20692,  87582,  79811,  14732,  65641,  44282,  23085,  56965,  96418,\\n        14773,\\n       ...\\n        87506,  21277,  75179,  59552, 101003,   7746,  55510,  37983,  87752,\\n        17669],\\n      dtype='int32', length=108999)] are in the [columns]\""
     ]
    }
   ],
   "source": [
    "from sklearn.model_selection import train_test_split\n",
    "xtrain,xtest,ytrain,ytest=train_test_split(x,y,test_size=0.30,shuffle=True,train_size=0.70)\n",
    "bagged_models = bagging(xtrain, ytrain, n_models=5)\n",
    "predictions = predict_bagging(bagged_models, xtest)\n",
    "print(\"Bagged Predictions:\", predictions)"
   ],
   "metadata": {
    "collapsed": false,
    "ExecuteTime": {
     "end_time": "2023-12-20T22:57:01.232243Z",
     "start_time": "2023-12-20T22:57:01.126842100Z"
    }
   },
   "id": "cd37abfe3e698ec6"
  },
  {
   "cell_type": "code",
   "execution_count": null,
   "outputs": [],
   "source": [],
   "metadata": {
    "collapsed": false
   },
   "id": "789d1cdb28b22062"
  }
 ],
 "metadata": {
  "kernelspec": {
   "display_name": "Python 3",
   "language": "python",
   "name": "python3"
  },
  "language_info": {
   "codemirror_mode": {
    "name": "ipython",
    "version": 2
   },
   "file_extension": ".py",
   "mimetype": "text/x-python",
   "name": "python",
   "nbconvert_exporter": "python",
   "pygments_lexer": "ipython2",
   "version": "2.7.6"
  }
 },
 "nbformat": 4,
 "nbformat_minor": 5
}
