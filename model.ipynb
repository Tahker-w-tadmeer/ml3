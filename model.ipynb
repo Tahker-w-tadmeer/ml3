{
 "cells": [
  {
   "cell_type": "code",
   "execution_count": 77,
   "id": "initial_id",
   "metadata": {
    "collapsed": true,
    "ExecuteTime": {
     "end_time": "2023-12-20T23:47:49.039516600Z",
     "start_time": "2023-12-20T23:47:48.759942400Z"
    }
   },
   "outputs": [
    {
     "name": "stdout",
     "output_type": "stream",
     "text": [
      "[[0.00000000e+00 2.85714286e-01 1.42857143e-01 ... 0.00000000e+00\n",
      "  6.11111111e-01 1.00000000e+00]\n",
      " [1.00000000e+00 3.57142857e-01 3.85714286e-01 ... 1.00000000e+00\n",
      "  7.33333333e-01 0.00000000e+00]\n",
      " [2.00000000e+00 5.00000000e-01 2.14285714e-01 ... 0.00000000e+00\n",
      "  4.22222222e-01 1.00000000e+00]\n",
      " ...\n",
      " [1.59253000e+05 1.42857143e-01 8.14285714e-01 ... 0.00000000e+00\n",
      "  3.77777778e-01 0.00000000e+00]\n",
      " [1.59254000e+05 5.00000000e-01 3.57142857e-01 ... 0.00000000e+00\n",
      "  4.55555556e-01 1.00000000e+00]\n",
      " [1.59255000e+05 7.14285714e-02 8.14285714e-01 ... 0.00000000e+00\n",
      "  5.00000000e-01 0.00000000e+00]]\n"
     ]
    }
   ],
   "source": [
    "import pandas as pd\n",
    "df = pd.read_csv('tahkeer_data_cleaned.csv', sep=',')\n",
    "print(df.values)"
   ]
  },
  {
   "cell_type": "code",
   "execution_count": 78,
   "outputs": [],
   "source": [
    "import numpy as np\n",
    "from sklearn.tree import DecisionTreeClassifier\n",
    "\n",
    "class BaggingClassifier:\n",
    "    def __init__(self, n_estimators=100, max_depth=None):\n",
    "        self.n_estimators = n_estimators\n",
    "        self.max_depth = max_depth  \n",
    "        self.models = [DecisionTreeClassifier(max_depth=self.max_depth) for _ in range(n_estimators)]  \n",
    "    def fit(self, X, y):\n",
    "        for model in self.models:\n",
    "            indices = np.random.choice(len(X), len(X), replace=True)\n",
    "            X_subset, y_subset = X.iloc[indices], y.iloc[indices] \n",
    "            model.fit(X_subset, y_subset)\n",
    "    def predict(self, X, threshold=0.5):\n",
    "        predictions = np.zeros((len(X), self.n_estimators))\n",
    "        for i, model in enumerate(self.models):\n",
    "            predictions[:, i] = model.predict(X)\n",
    "        avg_predictions = np.mean(predictions, axis=1)\n",
    "        binary_predictions = (avg_predictions >= threshold).astype(int)\n",
    "        return binary_predictions"
   ],
   "metadata": {
    "collapsed": false,
    "ExecuteTime": {
     "end_time": "2023-12-20T23:47:49.889585200Z",
     "start_time": "2023-12-20T23:47:49.876560300Z"
    }
   },
   "id": "9fac969431223e6e"
  },
  {
   "cell_type": "code",
   "execution_count": 79,
   "outputs": [
    {
     "name": "stdout",
     "output_type": "stream",
     "text": [
      "['weight(kg)', 'HDL', 'hearing(left)', 'triglyceride', 'fasting blood sugar', 'Cholesterol', 'LDL', 'AST', 'Gtp', 'eyesight(left)', 'waist(cm)', 'hearing(right)', 'serum creatinine', 'dental caries', 'systolic', 'smoking']\n",
      "['weight(kg)', 'HDL', 'hearing(left)', 'triglyceride', 'fasting blood sugar', 'Cholesterol', 'LDL', 'AST', 'Gtp', 'eyesight(left)', 'waist(cm)', 'hearing(right)', 'serum creatinine', 'dental caries', 'systolic']\n"
     ]
    }
   ],
   "source": [
    "columns = df.columns.tolist()[1:]\n",
    "print(columns)\n",
    "columns.remove(\"smoking\")\n",
    "print(columns)\n",
    "x=df[columns]\n",
    "y=df[\"smoking\"]"
   ],
   "metadata": {
    "collapsed": false,
    "ExecuteTime": {
     "end_time": "2023-12-20T23:47:51.651156300Z",
     "start_time": "2023-12-20T23:47:51.631441100Z"
    }
   },
   "id": "fe9ab1e20fe86d44"
  },
  {
   "cell_type": "code",
   "execution_count": 82,
   "outputs": [],
   "source": [
    "from sklearn.model_selection import train_test_split\n",
    "xtrain,xtest,ytrain,ytest=train_test_split(x,y,test_size=0.30,shuffle=False,train_size=0.70)\n",
    "bagging_model = BaggingClassifier(n_estimators=100, max_depth=60)\n",
    "bagging_model.fit(xtrain, ytrain)"
   ],
   "metadata": {
    "collapsed": false,
    "ExecuteTime": {
     "end_time": "2023-12-20T23:51:33.012419Z",
     "start_time": "2023-12-20T23:49:49.820295200Z"
    }
   },
   "id": "cd37abfe3e698ec6"
  },
  {
   "cell_type": "code",
   "execution_count": 83,
   "outputs": [
    {
     "name": "stdout",
     "output_type": "stream",
     "text": [
      "Bagging Accuracy: 0.7417904696664811\n"
     ]
    }
   ],
   "source": [
    "from sklearn.metrics import accuracy_score\n",
    "bagging_predictions = bagging_model.predict(xtest)\n",
    "bagging_accuracy = accuracy_score(ytest, bagging_predictions)\n",
    "print(f\"Bagging Accuracy: {bagging_accuracy}\")"
   ],
   "metadata": {
    "collapsed": false,
    "ExecuteTime": {
     "end_time": "2023-12-20T23:51:54.749834200Z",
     "start_time": "2023-12-20T23:51:53.389248700Z"
    }
   },
   "id": "789d1cdb28b22062"
  },
  {
   "cell_type": "code",
   "execution_count": null,
   "outputs": [],
   "source": [],
   "metadata": {
    "collapsed": false
   },
   "id": "54300543aa3d236d"
  }
 ],
 "metadata": {
  "kernelspec": {
   "display_name": "Python 3",
   "language": "python",
   "name": "python3"
  },
  "language_info": {
   "codemirror_mode": {
    "name": "ipython",
    "version": 2
   },
   "file_extension": ".py",
   "mimetype": "text/x-python",
   "name": "python",
   "nbconvert_exporter": "python",
   "pygments_lexer": "ipython2",
   "version": "2.7.6"
  }
 },
 "nbformat": 4,
 "nbformat_minor": 5
}
