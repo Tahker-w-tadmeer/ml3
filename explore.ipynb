{
 "cells": [
  {
   "cell_type": "code",
   "execution_count": null,
   "id": "initial_id",
   "metadata": {
    "collapsed": true
   },
   "outputs": [],
   "source": [
    "import random\n",
    "import pandas as pd \n",
    "import numpy as np\n",
    "\n",
    "data_path = \"tahkeer_data.csv\"\n",
    "all_data = pd.read_csv(data_path)\n",
    "\n",
    "# nicotine dependency, carbon monoxide levels, daily cigarette consumption, age of\n",
    "# smoking initiation, previous quit attempts, emotional well-being, personality traits, and motivation to\n",
    "# quit"
   ]
  },
  {
   "cell_type": "markdown",
   "source": [
    "# Univariate Analysis"
   ],
   "metadata": {
    "collapsed": false
   },
   "id": "bf40f04a04734ded"
  },
  {
   "cell_type": "code",
   "execution_count": null,
   "outputs": [],
   "source": [],
   "metadata": {
    "collapsed": false
   },
   "id": "e35f9a9b49ce1824"
  },
  {
   "cell_type": "markdown",
   "source": [
    "# Bivariate Analysis"
   ],
   "metadata": {
    "collapsed": false
   },
   "id": "b3877c3310e5bb9f"
  },
  {
   "cell_type": "code",
   "execution_count": null,
   "outputs": [],
   "source": [],
   "metadata": {
    "collapsed": false
   },
   "id": "e0cab3791de8ee00"
  },
  {
   "cell_type": "markdown",
   "source": [
    "# Multivariate Analysis"
   ],
   "metadata": {
    "collapsed": false
   },
   "id": "7228b7dca1bb19a1"
  },
  {
   "cell_type": "code",
   "execution_count": null,
   "outputs": [],
   "source": [],
   "metadata": {
    "collapsed": false
   },
   "id": "155170fdae8f84ba"
  }
 ],
 "metadata": {
  "kernelspec": {
   "display_name": "Python 3",
   "language": "python",
   "name": "python3"
  },
  "language_info": {
   "codemirror_mode": {
    "name": "ipython",
    "version": 2
   },
   "file_extension": ".py",
   "mimetype": "text/x-python",
   "name": "python",
   "nbconvert_exporter": "python",
   "pygments_lexer": "ipython2",
   "version": "2.7.6"
  }
 },
 "nbformat": 4,
 "nbformat_minor": 5
}
