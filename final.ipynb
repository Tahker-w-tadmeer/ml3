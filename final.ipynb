{
 "cells": [
  {
   "cell_type": "code",
   "execution_count": 27,
   "id": "initial_id",
   "metadata": {
    "collapsed": true,
    "ExecuteTime": {
     "end_time": "2023-12-25T02:39:41.712677Z",
     "start_time": "2023-12-25T02:39:41.561224Z"
    }
   },
   "outputs": [
    {
     "data": {
      "text/plain": "             Gtp  triglyceride  weight(kg)_waist(cm)_interaction  \\\n0       0.548520      0.927055                          0.144928   \n1       0.614924      0.493127                          0.214171   \n2       0.690662      0.819477                          0.217391   \n3       0.570725      0.827151                          0.565217   \n4       0.451021      0.610424                          0.142512   \n...          ...           ...                               ...   \n157933  0.394484      0.452922                          0.043478   \n157934  0.463068      0.825888                          0.224638   \n157935  0.377615      0.441799                          0.048309   \n157936  0.614924      0.746325                          0.297101   \n157937  0.451021      0.610424                          0.061353   \n\n        Cholesterol_LDL_aggregation       HDL  serum creatinine  \\\n0                          0.647329  0.204545          0.768622   \n1                          0.742554  0.397727          0.800437   \n2                          0.680603  0.261364          0.694135   \n3                          0.693479  0.181818          0.768622   \n4                          0.625588  0.250000          0.694135   \n...                             ...       ...               ...   \n157933                     0.845072  0.568182          0.694135   \n157934                     0.765632  0.477273          0.598104   \n157935                     0.704446  0.738636          0.598104   \n157936                     0.636700  0.375000          0.800437   \n157937                     0.685470  0.738636          0.694135   \n\n        fasting blood sugar  systolic       AST  smoking  \n0                  0.288591  0.611111  0.461818        1  \n1                  0.644295  0.733333  0.534610        0  \n2                  0.187919  0.422222  0.534610        1  \n3                  0.268456  0.566667  0.427941        0  \n4                  0.268456  0.455556  0.409709        1  \n...                     ...       ...       ...      ...  \n157933             0.087248  0.522222  0.507255        0  \n157934             0.255034  0.444444  0.445283        0  \n157935             0.221477  0.377778  0.325687        0  \n157936             0.476510  0.455556  0.461818        1  \n157937             0.214765  0.500000  0.445283        0  \n\n[157938 rows x 10 columns]",
      "text/html": "<div>\n<style scoped>\n    .dataframe tbody tr th:only-of-type {\n        vertical-align: middle;\n    }\n\n    .dataframe tbody tr th {\n        vertical-align: top;\n    }\n\n    .dataframe thead th {\n        text-align: right;\n    }\n</style>\n<table border=\"1\" class=\"dataframe\">\n  <thead>\n    <tr style=\"text-align: right;\">\n      <th></th>\n      <th>Gtp</th>\n      <th>triglyceride</th>\n      <th>weight(kg)_waist(cm)_interaction</th>\n      <th>Cholesterol_LDL_aggregation</th>\n      <th>HDL</th>\n      <th>serum creatinine</th>\n      <th>fasting blood sugar</th>\n      <th>systolic</th>\n      <th>AST</th>\n      <th>smoking</th>\n    </tr>\n  </thead>\n  <tbody>\n    <tr>\n      <th>0</th>\n      <td>0.548520</td>\n      <td>0.927055</td>\n      <td>0.144928</td>\n      <td>0.647329</td>\n      <td>0.204545</td>\n      <td>0.768622</td>\n      <td>0.288591</td>\n      <td>0.611111</td>\n      <td>0.461818</td>\n      <td>1</td>\n    </tr>\n    <tr>\n      <th>1</th>\n      <td>0.614924</td>\n      <td>0.493127</td>\n      <td>0.214171</td>\n      <td>0.742554</td>\n      <td>0.397727</td>\n      <td>0.800437</td>\n      <td>0.644295</td>\n      <td>0.733333</td>\n      <td>0.534610</td>\n      <td>0</td>\n    </tr>\n    <tr>\n      <th>2</th>\n      <td>0.690662</td>\n      <td>0.819477</td>\n      <td>0.217391</td>\n      <td>0.680603</td>\n      <td>0.261364</td>\n      <td>0.694135</td>\n      <td>0.187919</td>\n      <td>0.422222</td>\n      <td>0.534610</td>\n      <td>1</td>\n    </tr>\n    <tr>\n      <th>3</th>\n      <td>0.570725</td>\n      <td>0.827151</td>\n      <td>0.565217</td>\n      <td>0.693479</td>\n      <td>0.181818</td>\n      <td>0.768622</td>\n      <td>0.268456</td>\n      <td>0.566667</td>\n      <td>0.427941</td>\n      <td>0</td>\n    </tr>\n    <tr>\n      <th>4</th>\n      <td>0.451021</td>\n      <td>0.610424</td>\n      <td>0.142512</td>\n      <td>0.625588</td>\n      <td>0.250000</td>\n      <td>0.694135</td>\n      <td>0.268456</td>\n      <td>0.455556</td>\n      <td>0.409709</td>\n      <td>1</td>\n    </tr>\n    <tr>\n      <th>...</th>\n      <td>...</td>\n      <td>...</td>\n      <td>...</td>\n      <td>...</td>\n      <td>...</td>\n      <td>...</td>\n      <td>...</td>\n      <td>...</td>\n      <td>...</td>\n      <td>...</td>\n    </tr>\n    <tr>\n      <th>157933</th>\n      <td>0.394484</td>\n      <td>0.452922</td>\n      <td>0.043478</td>\n      <td>0.845072</td>\n      <td>0.568182</td>\n      <td>0.694135</td>\n      <td>0.087248</td>\n      <td>0.522222</td>\n      <td>0.507255</td>\n      <td>0</td>\n    </tr>\n    <tr>\n      <th>157934</th>\n      <td>0.463068</td>\n      <td>0.825888</td>\n      <td>0.224638</td>\n      <td>0.765632</td>\n      <td>0.477273</td>\n      <td>0.598104</td>\n      <td>0.255034</td>\n      <td>0.444444</td>\n      <td>0.445283</td>\n      <td>0</td>\n    </tr>\n    <tr>\n      <th>157935</th>\n      <td>0.377615</td>\n      <td>0.441799</td>\n      <td>0.048309</td>\n      <td>0.704446</td>\n      <td>0.738636</td>\n      <td>0.598104</td>\n      <td>0.221477</td>\n      <td>0.377778</td>\n      <td>0.325687</td>\n      <td>0</td>\n    </tr>\n    <tr>\n      <th>157936</th>\n      <td>0.614924</td>\n      <td>0.746325</td>\n      <td>0.297101</td>\n      <td>0.636700</td>\n      <td>0.375000</td>\n      <td>0.800437</td>\n      <td>0.476510</td>\n      <td>0.455556</td>\n      <td>0.461818</td>\n      <td>1</td>\n    </tr>\n    <tr>\n      <th>157937</th>\n      <td>0.451021</td>\n      <td>0.610424</td>\n      <td>0.061353</td>\n      <td>0.685470</td>\n      <td>0.738636</td>\n      <td>0.694135</td>\n      <td>0.214765</td>\n      <td>0.500000</td>\n      <td>0.445283</td>\n      <td>0</td>\n    </tr>\n  </tbody>\n</table>\n<p>157938 rows × 10 columns</p>\n</div>"
     },
     "execution_count": 27,
     "metadata": {},
     "output_type": "execute_result"
    }
   ],
   "source": [
    "from ensemble_methods import BaggingClassifier, RandomForestClassifier, AdaBoost\n",
    "import pandas as pd\n",
    "\n",
    "df = pd.read_csv('tahkeer_data_cleaned.csv')\n",
    "columns = df.columns.tolist()\n",
    "columns.remove(\"smoking\")\n",
    "features_x = df[columns]\n",
    "class_y = df[\"smoking\"]\n",
    "\n",
    "df"
   ]
  },
  {
   "cell_type": "code",
   "execution_count": 28,
   "outputs": [],
   "source": [
    "from sklearn.model_selection import train_test_split\n",
    "from sklearn.metrics import accuracy_score\n",
    "\n",
    "xtrain, xtest, ytrain, ytest = train_test_split(features_x, class_y, test_size=0.30, shuffle=False, train_size=0.70)\n",
    "\n",
    "xtest, xvalidate, ytest, yvalidate = train_test_split(xtest, ytest, test_size=0.50, shuffle=True, train_size=0.50)"
   ],
   "metadata": {
    "collapsed": false,
    "ExecuteTime": {
     "end_time": "2023-12-25T02:39:41.737378Z",
     "start_time": "2023-12-25T02:39:41.712706Z"
    }
   },
   "id": "4bb33ff0e1d5e53d"
  },
  {
   "cell_type": "markdown",
   "source": [
    "# Bagging"
   ],
   "metadata": {
    "collapsed": false
   },
   "id": "908faa1d6c1d787d"
  },
  {
   "cell_type": "code",
   "execution_count": 29,
   "outputs": [],
   "source": [
    "model_bagging = BaggingClassifier(n_estimators=300, max_depth=90)\n",
    "model_bagging.fit(xtrain, ytrain)\n",
    "\n",
    "test_predications = model_bagging.predict(xtest)\n",
    "validation_predications = model_bagging.predict(xvalidate)\n",
    "\n",
    "test_accuracy = accuracy_score(ytest, test_predications)\n",
    "validation_accuracy = accuracy_score(yvalidate, validation_predications)"
   ],
   "metadata": {
    "collapsed": false,
    "ExecuteTime": {
     "end_time": "2023-12-25T02:42:39.587782Z",
     "start_time": "2023-12-25T02:39:41.730047Z"
    }
   },
   "id": "a46c30babbd8124b"
  },
  {
   "cell_type": "code",
   "execution_count": 30,
   "outputs": [
    {
     "name": "stdout",
     "output_type": "stream",
     "text": [
      "Bagging Test Accuracy: 72.99%\n",
      "Bagging Validation Accuracy: 73.79%\n"
     ]
    }
   ],
   "source": [
    "print(f\"Bagging Test Accuracy: {round(test_accuracy*100, 2)}%\")\n",
    "print(f\"Bagging Validation Accuracy: {round(validation_accuracy*100, 2)}%\")"
   ],
   "metadata": {
    "collapsed": false,
    "ExecuteTime": {
     "end_time": "2023-12-25T02:42:39.590949Z",
     "start_time": "2023-12-25T02:42:39.586817Z"
    }
   },
   "id": "233b7a06f6267368"
  },
  {
   "cell_type": "markdown",
   "source": [
    "# AdaBoost"
   ],
   "metadata": {
    "collapsed": false
   },
   "id": "80f956e6c4fe4d78"
  },
  {
   "cell_type": "code",
   "execution_count": 31,
   "outputs": [],
   "source": [
    "model_boost = AdaBoost(n_estimators=300)\n",
    "model_boost.fit(xtrain, ytrain)\n",
    "\n",
    "test_predications = model_boost.predict(xtest)\n",
    "validation_predications = model_boost.predict(xvalidate)\n",
    "\n",
    "test_accuracy = accuracy_score(ytest, test_predications)\n",
    "validation_accuracy = accuracy_score(yvalidate, validation_predications)"
   ],
   "metadata": {
    "collapsed": false,
    "ExecuteTime": {
     "end_time": "2023-12-25T02:43:23.645069Z",
     "start_time": "2023-12-25T02:42:39.588951Z"
    }
   },
   "id": "eab0fbc1fb559010"
  },
  {
   "cell_type": "code",
   "execution_count": 32,
   "outputs": [
    {
     "name": "stdout",
     "output_type": "stream",
     "text": [
      "Boosting Test Accuracy: 71.72%\n",
      "Boosting Validation Accuracy: 72.02%\n"
     ]
    }
   ],
   "source": [
    "print(f\"Boosting Test Accuracy: {round(test_accuracy*100, 2)}%\")\n",
    "print(f\"Boosting Validation Accuracy: {round(validation_accuracy*100, 2)}%\")"
   ],
   "metadata": {
    "collapsed": false,
    "ExecuteTime": {
     "end_time": "2023-12-25T02:43:23.648455Z",
     "start_time": "2023-12-25T02:43:23.644812Z"
    }
   },
   "id": "4c540a5bcad43dca"
  },
  {
   "cell_type": "markdown",
   "source": [
    "# Random Forest"
   ],
   "metadata": {
    "collapsed": false
   },
   "id": "31ed53798510845f"
  },
  {
   "cell_type": "code",
   "execution_count": 33,
   "outputs": [],
   "source": [
    "model_rf = RandomForestClassifier(n_estimators=250, max_depth=10, min_samples_split=2, min_samples_leaf=2)\n",
    "model_rf.fit(xtrain, ytrain)\n",
    "\n",
    "test_predications = model_rf.predict(xtest)\n",
    "validation_predications = model_rf.predict(xvalidate)\n",
    "\n",
    "test_accuracy = accuracy_score(ytest, test_predications)\n",
    "validation_accuracy = accuracy_score(yvalidate, validation_predications)"
   ],
   "metadata": {
    "collapsed": false,
    "ExecuteTime": {
     "end_time": "2023-12-25T02:43:50.132798Z",
     "start_time": "2023-12-25T02:43:23.648330Z"
    }
   },
   "id": "98a0ba65206c0165"
  },
  {
   "cell_type": "code",
   "execution_count": 34,
   "outputs": [
    {
     "name": "stdout",
     "output_type": "stream",
     "text": [
      "Random Forest Test Accuracy: 72.36%\n",
      "Random Forest Validation Accuracy: 72.52%\n"
     ]
    }
   ],
   "source": [
    "print(f\"Random Forest Test Accuracy: {round(test_accuracy*100, 2)}%\")\n",
    "print(f\"Random Forest Validation Accuracy: {round(validation_accuracy*100, 2)}%\")"
   ],
   "metadata": {
    "collapsed": false,
    "ExecuteTime": {
     "end_time": "2023-12-25T02:43:50.137100Z",
     "start_time": "2023-12-25T02:43:50.132536Z"
    }
   },
   "id": "3e7121a28a499150"
  },
  {
   "cell_type": "markdown",
   "source": [
    "# Testing with real data"
   ],
   "metadata": {
    "collapsed": false
   },
   "id": "c1c452418b31085b"
  },
  {
   "cell_type": "code",
   "execution_count": 37,
   "outputs": [
    {
     "name": "stdout",
     "output_type": "stream",
     "text": [
      "Bagging: Smoker 1\n",
      "Boost: Smoker 1\n",
      "Random Forest: Smoker 1\n",
      "Total: Smoker 1\n"
     ]
    }
   ],
   "source": [
    "from statistics import mode\n",
    "\n",
    "# This data is of a smoker\n",
    "data = pd.DataFrame([{\n",
    "    'Gtp': 0.548520, 'triglyceride': 0.927055,\n",
    "    'weight(kg)_waist(cm)_interaction': 0.144928,\n",
    "    'Cholesterol_LDL_aggregation': 0.647329, 'HDL': 0.204545, 'serum creatinine': 0.768622,\n",
    "    'fasting blood sugar': 0.288591, 'systolic': 0.611111, 'AST': 0.461818\n",
    "}])\n",
    "\n",
    "prediction_bagging = model_bagging.predict(data)[0]\n",
    "prediction_boost = int(model_boost.predict(data)[0])\n",
    "prediction_rf = model_rf.predict(data)[0]\n",
    "\n",
    "print(\"Bagging: \" + (\"Smoker\" if prediction_bagging else \"Non smoker\") + \" \" + str(prediction_bagging))\n",
    "print(\"Boost: \" + (\"Smoker\" if prediction_boost else \"Non smoker\") + \" \" + str(prediction_boost))\n",
    "print(\"Random Forest: \" + (\"Smoker\" if prediction_rf else \"Non smoker\") + \" \" + str(prediction_rf))\n",
    "\n",
    "prediction = mode([prediction_bagging, prediction_boost, prediction_rf])\n",
    "\n",
    "print(\"Total: \" + (\"Smoker\" if prediction else \"Non smoker\") + \" \" + str(prediction))"
   ],
   "metadata": {
    "collapsed": false,
    "ExecuteTime": {
     "end_time": "2023-12-25T02:44:35.886228Z",
     "start_time": "2023-12-25T02:44:35.758236Z"
    }
   },
   "id": "2e3962f428f5b25d"
  }
 ],
 "metadata": {
  "kernelspec": {
   "display_name": "Python 3",
   "language": "python",
   "name": "python3"
  },
  "language_info": {
   "codemirror_mode": {
    "name": "ipython",
    "version": 2
   },
   "file_extension": ".py",
   "mimetype": "text/x-python",
   "name": "python",
   "nbconvert_exporter": "python",
   "pygments_lexer": "ipython2",
   "version": "2.7.6"
  }
 },
 "nbformat": 4,
 "nbformat_minor": 5
}
