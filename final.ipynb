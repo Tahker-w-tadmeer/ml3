{
 "cells": [
  {
   "cell_type": "code",
   "execution_count": 6,
   "id": "initial_id",
   "metadata": {
    "collapsed": true,
    "ExecuteTime": {
     "end_time": "2023-12-25T02:17:14.628688Z",
     "start_time": "2023-12-25T02:17:14.481947Z"
    }
   },
   "outputs": [],
   "source": [
    "from ensemble_methods import BaggingClassifier, RandomForestClassifier, AdaBoost\n",
    "import pandas as pd\n",
    "\n",
    "df = pd.read_csv('tahkeer_data_cleaned.csv')\n",
    "columns = df.columns.tolist()\n",
    "columns.remove(\"smoking\")\n",
    "features_x = df[columns]\n",
    "class_y = df[\"smoking\"]"
   ]
  },
  {
   "cell_type": "code",
   "execution_count": 7,
   "outputs": [],
   "source": [
    "from sklearn.model_selection import train_test_split\n",
    "from sklearn.metrics import accuracy_score\n",
    "\n",
    "xtrain, xtest, ytrain, ytest = train_test_split(features_x, class_y, test_size=0.30, shuffle=False, train_size=0.70)\n",
    "\n",
    "xtest, xvalidate, ytest, yvalidate = train_test_split(xtest, ytest, test_size=0.50, shuffle=True, train_size=0.50)"
   ],
   "metadata": {
    "collapsed": false,
    "ExecuteTime": {
     "end_time": "2023-12-25T02:17:14.639671Z",
     "start_time": "2023-12-25T02:17:14.631656Z"
    }
   },
   "id": "4bb33ff0e1d5e53d"
  },
  {
   "cell_type": "markdown",
   "source": [
    "# Bagging"
   ],
   "metadata": {
    "collapsed": false
   },
   "id": "908faa1d6c1d787d"
  },
  {
   "cell_type": "code",
   "execution_count": 8,
   "outputs": [],
   "source": [
    "model = BaggingClassifier(n_estimators=300, max_depth=90)\n",
    "model.fit(xtrain, ytrain)\n",
    "\n",
    "test_predications = model.predict(xtest)\n",
    "validation_predications = model.predict(xvalidate)\n",
    "\n",
    "test_accuracy = accuracy_score(ytest, test_predications)\n",
    "validation_accuracy = accuracy_score(yvalidate, validation_predications)"
   ],
   "metadata": {
    "collapsed": false,
    "ExecuteTime": {
     "end_time": "2023-12-25T02:20:11.940694Z",
     "start_time": "2023-12-25T02:17:14.641930Z"
    }
   },
   "id": "a46c30babbd8124b"
  },
  {
   "cell_type": "code",
   "execution_count": 9,
   "outputs": [
    {
     "name": "stdout",
     "output_type": "stream",
     "text": [
      "Bagging Test Accuracy: 73.16%\n",
      "Bagging Validation Accuracy: 73.39%\n"
     ]
    }
   ],
   "source": [
    "print(f\"Bagging Test Accuracy: {round(test_accuracy*100, 2)}%\")\n",
    "print(f\"Bagging Validation Accuracy: {round(validation_accuracy*100, 2)}%\")"
   ],
   "metadata": {
    "collapsed": false,
    "ExecuteTime": {
     "end_time": "2023-12-25T02:20:11.969925Z",
     "start_time": "2023-12-25T02:20:11.939193Z"
    }
   },
   "id": "233b7a06f6267368"
  },
  {
   "cell_type": "markdown",
   "source": [
    "# AdaBoost"
   ],
   "metadata": {
    "collapsed": false
   },
   "id": "80f956e6c4fe4d78"
  },
  {
   "cell_type": "code",
   "execution_count": 10,
   "outputs": [],
   "source": [
    "model = AdaBoost(n_estimators=300)\n",
    "model.fit(xtrain, ytrain)\n",
    "\n",
    "test_predications = model.predict(xtest)\n",
    "validation_predications = model.predict(xvalidate)\n",
    "\n",
    "test_accuracy = accuracy_score(ytest, test_predications)\n",
    "validation_accuracy = accuracy_score(yvalidate, validation_predications)"
   ],
   "metadata": {
    "collapsed": false,
    "ExecuteTime": {
     "end_time": "2023-12-25T02:20:55.716822Z",
     "start_time": "2023-12-25T02:20:11.991148Z"
    }
   },
   "id": "eab0fbc1fb559010"
  },
  {
   "cell_type": "code",
   "execution_count": 11,
   "outputs": [
    {
     "name": "stdout",
     "output_type": "stream",
     "text": [
      "Boosting Test Accuracy: 72.18%\n",
      "Boosting Validation Accuracy: 71.56%\n"
     ]
    }
   ],
   "source": [
    "print(f\"Boosting Test Accuracy: {round(test_accuracy*100, 2)}%\")\n",
    "print(f\"Boosting Validation Accuracy: {round(validation_accuracy*100, 2)}%\")"
   ],
   "metadata": {
    "collapsed": false,
    "ExecuteTime": {
     "end_time": "2023-12-25T02:20:55.720750Z",
     "start_time": "2023-12-25T02:20:55.716479Z"
    }
   },
   "id": "4c540a5bcad43dca"
  },
  {
   "cell_type": "markdown",
   "source": [
    "# Random Forest"
   ],
   "metadata": {
    "collapsed": false
   },
   "id": "31ed53798510845f"
  },
  {
   "cell_type": "code",
   "execution_count": 12,
   "outputs": [],
   "source": [
    "model = RandomForestClassifier(n_estimators=250, max_depth=10, min_samples_split=2, min_samples_leaf=2)\n",
    "model.fit(xtrain, ytrain)\n",
    "\n",
    "test_predications = model.predict(xtest)\n",
    "validation_predications = model.predict(xvalidate)\n",
    "\n",
    "test_accuracy = accuracy_score(ytest, test_predications)\n",
    "validation_accuracy = accuracy_score(yvalidate, validation_predications)"
   ],
   "metadata": {
    "collapsed": false,
    "ExecuteTime": {
     "end_time": "2023-12-25T02:21:23.034482Z",
     "start_time": "2023-12-25T02:20:55.721152Z"
    }
   },
   "id": "98a0ba65206c0165"
  },
  {
   "cell_type": "code",
   "execution_count": 13,
   "outputs": [
    {
     "name": "stdout",
     "output_type": "stream",
     "text": [
      "Random Forest Test Accuracy: 71.97%\n",
      "Random Forest Validation Accuracy: 72.45%\n"
     ]
    }
   ],
   "source": [
    "print(f\"Random Forest Test Accuracy: {round(test_accuracy*100, 2)}%\")\n",
    "print(f\"Random Forest Validation Accuracy: {round(validation_accuracy*100, 2)}%\")"
   ],
   "metadata": {
    "collapsed": false,
    "ExecuteTime": {
     "end_time": "2023-12-25T02:21:23.037824Z",
     "start_time": "2023-12-25T02:21:23.035921Z"
    }
   },
   "id": "3e7121a28a499150"
  }
 ],
 "metadata": {
  "kernelspec": {
   "display_name": "Python 3",
   "language": "python",
   "name": "python3"
  },
  "language_info": {
   "codemirror_mode": {
    "name": "ipython",
    "version": 2
   },
   "file_extension": ".py",
   "mimetype": "text/x-python",
   "name": "python",
   "nbconvert_exporter": "python",
   "pygments_lexer": "ipython2",
   "version": "2.7.6"
  }
 },
 "nbformat": 4,
 "nbformat_minor": 5
}
